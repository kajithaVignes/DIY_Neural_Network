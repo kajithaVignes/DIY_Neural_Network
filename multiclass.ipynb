{
 "cells": [
  {
   "cell_type": "code",
   "execution_count": 1,
   "metadata": {},
   "outputs": [],
   "source": [
    "import numpy as np\n",
    "import matplotlib.pyplot as plt\n",
    "from sklearn.model_selection import train_test_split\n",
    "from mltools import plot_data, plot_frontiere, make_grid, gen_arti\n",
    "from loss import MSELoss,CELoss,BCE\n",
    "from module import Linear,Sequentiel,Optim,SGD\n",
    "from fonction_activation import TanH,Sigmoide\n",
    "from sklearn.metrics import accuracy_score, precision_score, recall_score, f1_score\n",
    "import seaborn as sns"
   ]
  },
  {
   "cell_type": "code",
   "execution_count": 2,
   "metadata": {},
   "outputs": [],
   "source": [
    "from sklearn import datasets\n",
    "from sklearn.model_selection import train_test_split\n",
    "from sklearn.preprocessing import LabelBinarizer\n",
    "from sklearn.metrics import confusion_matrix\n",
    "from sklearn.datasets import fetch_openml\n",
    "from sklearn.preprocessing import OneHotEncoder\n"
   ]
  },
  {
   "cell_type": "code",
   "execution_count": 3,
   "metadata": {},
   "outputs": [],
   "source": [
    "digits=datasets.load_digits()"
   ]
  },
  {
   "cell_type": "code",
   "execution_count": 4,
   "metadata": {},
   "outputs": [
    {
     "name": "stdout",
     "output_type": "stream",
     "text": [
      "10\n"
     ]
    },
    {
     "data": {
      "image/png": "[encoded data removed]",
      "text/plain": [
       "<Figure size 640x480 with 1 Axes>"
      ]
     },
     "metadata": {},
     "output_type": "display_data"
    }
   ],
   "source": [
    "X = digits.images\n",
    "y = digits.target\n",
    "\n",
    "print(len(digits.target_names))\n",
    "\n",
    "plt.imshow(X[0], cmap='gray')\n",
    "plt.title(f\"Label: {y[0]}\")\n",
    "plt.show()"
   ]
  },
  {
   "cell_type": "code",
   "execution_count": null,
   "metadata": {},
   "outputs": [],
   "source": [
    "X_vect = X.reshape((X.shape[0], -1))\n",
    "# Normalisation pour avoir valeur entre 0 et 1 et vu qu'on a 16 niveau de gris \n",
    "X_vect = X_vect / 16.0  \n",
    "print(X_vect.shape)"
   ]
  },
  {
   "cell_type": "code",
   "execution_count": null,
   "metadata": {},
   "outputs": [],
   "source": [
    "y_onehot = np.zeros((y.size,len(digits.target_names)))\n",
    "y_onehot[np.arange(y.size), y] = 1\n",
    "print(y_onehot.shape)"
   ]
  },
  {
   "cell_type": "code",
   "execution_count": null,
   "metadata": {},
   "outputs": [],
   "source": [
    "#PREMIER TEST\n",
    "net = Sequentiel(\n",
    "    CELoss(),\n",
    "    Linear(64,100),  \n",
    "    TanH(),                    \n",
    "    Linear(100, 100),\n",
    "    TanH(),\n",
    "    Linear(100, 10)\n",
    ")\n",
    "\n",
    "# SGD\n",
    "train_loss, test_loss,X_test,y_test = SGD(\n",
    "    net=net,\n",
    "    loss=CELoss(),\n",
    "    X=X_vect,\n",
    "    Y=y_onehot,\n",
    "    batch_size=16,\n",
    "    epochs=100,\n",
    "    eps=0.01 \n",
    ")\n",
    "\n",
    "# plot\n",
    "plt.figure(figsize=(12, 5))\n",
    "\n",
    "plt.subplot(1, 2, 1)\n",
    "plt.plot(train_loss, label='Train loss')\n",
    "plt.plot(test_loss, label='Test loss', linestyle='--')\n",
    "plt.title(\"Courbe de loss\"); plt.xlabel(\"Epochs\"); plt.legend()\n",
    "\n",
    "\n",
    "y_pred_logits = net.forward(X_test)\n",
    "y_pred = np.argmax(y_pred_logits, axis=1)\n",
    "y_true = np.argmax(y_test, axis=1)  # si Y est one-hot\n",
    "\n",
    "acc = accuracy_score(y_true, y_pred)\n",
    "prec = precision_score(y_true, y_pred, average='macro', zero_division=0)\n",
    "rec = recall_score(y_true, y_pred, average='macro', zero_division=0)\n",
    "f1 = f1_score(y_true, y_pred, average='macro', zero_division=0)\n",
    "\n",
    "print(\"\\n=== Scores sur le jeu de test ===\")\n",
    "print(f\"Accuracy:  {acc:.4f}\")\n",
    "print(f\"Precision: {prec:.4f}\")\n",
    "print(f\"Recall:    {rec:.4f}\")\n",
    "print(f\"F1-score:  {f1:.4f}\")\n",
    "\n",
    "\n",
    "plt.subplot(1, 2, 2)\n",
    "y_true_classes = np.argmax(y_test, axis=1)\n",
    "plt.scatter(range(len(y_true_classes)), y_true_classes, label='Vrai label', s=10)\n",
    "plt.scatter(range(len(y_pred)), y_pred, label='Prédiction', s=10, alpha=0.5)\n",
    "plt.title(\"Comparaison prédictions vs vraies classes\"); plt.legend()\n",
    "\n",
    "plt.show()"
   ]
  },
  {
   "cell_type": "code",
   "execution_count": null,
   "metadata": {},
   "outputs": [],
   "source": [
    "print(y_true_classes[0])\n",
    "print(y_pred[0])\n",
    "plt.imshow(X_test[0].reshape((8,8)), cmap='gray')\n",
    "plt.title(f\"Label: {y[0]}\")\n",
    "plt.show()"
   ]
  },
  {
   "cell_type": "code",
   "execution_count": null,
   "metadata": {},
   "outputs": [],
   "source": [
    "\n",
    "\n",
    "cm = confusion_matrix(y_true, y_pred)\n",
    "\n",
    "plt.figure(figsize=(10, 7))\n",
    "sns.heatmap(cm, annot=True, fmt='d', cmap='Blues')\n",
    "plt.xlabel(\"Prédictions\")\n",
    "plt.ylabel(\"Vrais labels\")\n",
    "plt.title(\"Matrice de confusion\")\n",
    "plt.show()"
   ]
  },
  {
   "cell_type": "markdown",
   "metadata": {},
   "source": [
    "# MNIST"
   ]
  },
  {
   "cell_type": "code",
   "execution_count": null,
   "metadata": {},
   "outputs": [],
   "source": [
    "mnist = fetch_openml('mnist_784', version=1)\n",
    "X = mnist.data.values/ 255.0  # normalisation\n",
    "y = mnist.target.astype(int)  #\n",
    "y = mnist.target.astype(int)\n",
    "y_onehot = np.zeros((y.size, 10))  # 10 classes (chiffres 0 à 9)\n",
    "y_onehot[np.arange(y.size), y] = 1\n",
    "\n",
    "# Découper en train/test\n",
    "X_train, X_test, y_train, y_test = train_test_split(X, y_onehot, test_size=0.2, random_state=42)"
   ]
  },
  {
   "cell_type": "code",
   "execution_count": null,
   "metadata": {},
   "outputs": [],
   "source": [
    "plt.imshow(X_train[0].reshape((28,28)),interpolation=\"nearest\")"
   ]
  },
  {
   "cell_type": "code",
   "execution_count": null,
   "metadata": {},
   "outputs": [],
   "source": [
    "net = Sequentiel(\n",
    "    CELoss(),\n",
    "    Linear(784, 100),\n",
    "    TanH(),\n",
    "    Linear(100, 100),\n",
    "    TanH(),\n",
    "    Linear(100, 10)  # 10 classes\n",
    ")\n",
    "\n",
    "train_loss, test_loss, X_eval, y_eval = SGD(\n",
    "    net=net,\n",
    "    loss=CELoss(),\n",
    "    X=X_train,\n",
    "    Y=y_train,\n",
    "    batch_size=32,\n",
    "    epochs=100,\n",
    "    eps=0.01\n",
    ")\n",
    "\n",
    "y_pred_logits = net.forward(X_test)\n",
    "y_pred = np.argmax(y_pred_logits, axis=1)\n",
    "y_true = np.argmax(y_test, axis=1)\n",
    "\n",
    "# Scores\n",
    "print(\"Accuracy:\", accuracy_score(y_true, y_pred))"
   ]
  },
  {
   "cell_type": "code",
   "execution_count": null,
   "metadata": {},
   "outputs": [],
   "source": [
    "acc = accuracy_score(y_true, y_pred)\n",
    "prec = precision_score(y_true, y_pred, average='macro', zero_division=0)\n",
    "rec = recall_score(y_true, y_pred, average='macro', zero_division=0)\n",
    "f1 = f1_score(y_true, y_pred, average='macro', zero_division=0)\n",
    "\n",
    "print(\"\\n=== Scores sur le jeu de test ===\")\n",
    "print(f\"Accuracy:  {acc:.4f}\")\n",
    "print(f\"Precision: {prec:.4f}\")\n",
    "print(f\"Recall:    {rec:.4f}\")\n",
    "print(f\"F1-score:  {f1:.4f}\")\n",
    "\n",
    "# Prédictions (par exemple sur le test set)\n",
    "plt.subplot(1, 2, 2)\n",
    "# y_pred_classes = np.argmax(y_pred, axis=1)\n",
    "y_true_classes = np.argmax(y_test, axis=1)\n",
    "plt.scatter(range(len(y_true_classes)), y_true_classes, label='Vrai label', s=10)\n",
    "plt.scatter(range(len(y_pred)), y_pred, label='Prédiction', s=10, alpha=0.5)\n",
    "plt.title(\"Comparaison prédictions vs vraies classes\"); plt.legend()"
   ]
  },
  {
   "cell_type": "code",
   "execution_count": null,
   "metadata": {},
   "outputs": [],
   "source": [
    "# 4. Visualisation\n",
    "plt.figure(figsize=(12, 5))\n",
    "\n",
    "# Courbe d'apprentissage\n",
    "plt.subplot(1, 2, 1)\n",
    "plt.plot(train_loss, label='Train loss')\n",
    "plt.plot(test_loss, label='Test loss', linestyle='--')\n",
    "plt.title(\"Courbe de loss\"); plt.xlabel(\"Epochs\"); plt.legend()"
   ]
  },
  {
   "cell_type": "code",
   "execution_count": null,
   "metadata": {},
   "outputs": [],
   "source": [
    "cm = confusion_matrix(y_true, y_pred)\n",
    "\n",
    "plt.figure(figsize=(10, 7))\n",
    "sns.heatmap(cm, annot=True, fmt='d', cmap='Blues')\n",
    "plt.xlabel(\"Prédictions\")\n",
    "plt.ylabel(\"Vrais labels\")\n",
    "plt.title(\"Matrice de confusion\")\n",
    "plt.show()"
   ]
  },
  {
   "cell_type": "markdown",
   "metadata": {},
   "source": [
    "différentes dimensions des couches cachées"
   ]
  },
  {
   "cell_type": "code",
   "execution_count": null,
   "metadata": {},
   "outputs": [],
   "source": [
    "train_losses=[]\n",
    "test_losses=[]\n",
    "for dim in [10,50,100,200,256]:\n",
    "  print(f\"dim = {dim}\")\n",
    "  net = Sequentiel(CELoss(),Linear(784, dim),TanH(),Linear(dim, dim),TanH(),Linear(dim, 10))  # 10 classes\n",
    "\n",
    "  train_loss, test_loss, X_eval, y_eval = SGD(net=net,loss=CELoss(),X=X_train,Y=y_train,batch_size=32,epochs=100,eps=0.01)\n",
    "  train_losses.append(train_loss)\n",
    "  test_losses.append(test_loss)\n",
    "  y_pred_logits = net.forward(X_test)\n",
    "  y_pred = np.argmax(y_pred_logits, axis=1)\n",
    "  y_true = np.argmax(y_test, axis=1)\n",
    "\n",
    "  # Scores\n",
    "  acc = accuracy_score(y_true, y_pred)\n",
    "  prec = precision_score(y_true, y_pred, average='macro', zero_division=0)\n",
    "  rec = recall_score(y_true, y_pred, average='macro', zero_division=0)\n",
    "  f1 = f1_score(y_true, y_pred, average='macro', zero_division=0)\n",
    "  print(\"Accuracy:\", accuracy_score(y_true, y_pred))\n",
    "  print(f\"Precision: {prec:.4f}\")\n",
    "  print(f\"Recall:    {rec:.4f}\")\n",
    "  print(f\"F1-score:  {f1:.4f}\")"
   ]
  },
  {
   "cell_type": "code",
   "execution_count": null,
   "metadata": {},
   "outputs": [],
   "source": [
    "dims=[10,50,100,200,256]\n",
    "plt.figure(figsize=(12, 8))\n",
    "for dim,loss_train in zip(dims,train_losses):\n",
    "  # Courbe d'apprentissage\n",
    "  plt.subplot(1, 2, 1)\n",
    "  plt.plot(loss_train, label=f'Train loss pour {dim}')\n",
    "\n",
    "plt.title(\"Courbe de loss\")\n",
    "plt.xlabel(\"Epochs\")\n",
    "plt.legend()\n",
    "plt.show()"
   ]
  },
  {
   "cell_type": "code",
   "execution_count": null,
   "metadata": {},
   "outputs": [],
   "source": [
    "dims=[10,50,100,200,256]\n",
    "plt.figure(figsize=(12, 8))\n",
    "for dim,loss_test in zip(dims,test_losses):\n",
    "  # Courbe d'apprentissage\n",
    "  plt.subplot(1, 2, 1)\n",
    "  plt.plot(loss_test, label=f'test loss pour {dim}')\n",
    "\n",
    "plt.title(\"Courbe de loss\")\n",
    "plt.xlabel(\"Epochs\")\n",
    "plt.legend()\n",
    "plt.show()"
   ]
  },
  {
   "cell_type": "markdown",
   "metadata": {},
   "source": [
    "## différentes batch_size"
   ]
  },
  {
   "cell_type": "code",
   "execution_count": null,
   "metadata": {},
   "outputs": [],
   "source": [
    "train_losses=[]\n",
    "test_losses=[]\n",
    "for batch_size in [10,32,64,100]:\n",
    "  print(f\"batch_size = {batch_size}\")\n",
    "  net = Sequentiel(CELoss(),Linear(784, 100),TanH(),Linear(100, 10))  # 10 classes\n",
    "\n",
    "  train_loss, test_loss, X_eval, y_eval = SGD(net=net,loss=CELoss(),X=X_train,Y=y_train,batch_size=batch_size,epochs=100,eps=0.01)\n",
    "  train_losses.append(train_loss)\n",
    "  test_losses.append(test_loss)\n",
    "  y_pred_logits = net.forward(X_test)\n",
    "  y_pred = np.argmax(y_pred_logits, axis=1)\n",
    "  y_true = np.argmax(y_test, axis=1)\n",
    "\n",
    "  # Scores\n",
    "  acc = accuracy_score(y_true, y_pred)\n",
    "  prec = precision_score(y_true, y_pred, average='macro', zero_division=0)\n",
    "  rec = recall_score(y_true, y_pred, average='macro', zero_division=0)\n",
    "  f1 = f1_score(y_true, y_pred, average='macro', zero_division=0)\n",
    "  print(\"Accuracy:\", accuracy_score(y_true, y_pred))\n",
    "  print(f\"Precision: {prec:.4f}\")\n",
    "  print(f\"Recall:    {rec:.4f}\")\n",
    "  print(f\"F1-score:  {f1:.4f}\")\n"
   ]
  },
  {
   "cell_type": "code",
   "execution_count": null,
   "metadata": {},
   "outputs": [],
   "source": [
    "batch_size=[10,32,64,100]\n",
    "plt.figure(figsize=(12, 8))\n",
    "for dim,loss_train in zip(batch_size,train_losses):\n",
    "  # Courbe d'apprentissage\n",
    "  plt.subplot(1, 2, 1)\n",
    "  plt.plot(loss_train, label=f'train loss pour {dim}')\n",
    "\n",
    "plt.title(\"Courbe de loss\")\n",
    "plt.xlabel(\"Epochs\")\n",
    "plt.legend()\n",
    "plt.show()"
   ]
  },
  {
   "cell_type": "code",
   "execution_count": null,
   "metadata": {},
   "outputs": [],
   "source": [
    "batch_size=[10,32,64,100]\n",
    "plt.figure(figsize=(12, 8))\n",
    "for dim,loss_test in zip(batch_size,test_losses):\n",
    "  # Courbe d'apprentissage\n",
    "  plt.subplot(1, 2, 1)\n",
    "  plt.plot(loss_test, label=f'test loss pour {dim}')\n",
    "\n",
    "plt.title(\"Courbe de loss\")\n",
    "plt.xlabel(\"Epochs\")\n",
    "plt.legend()\n",
    "plt.show()"
   ]
  },
  {
   "cell_type": "markdown",
   "metadata": {},
   "source": [
    "## différentes architectures"
   ]
  },
  {
   "cell_type": "code",
   "execution_count": null,
   "metadata": {},
   "outputs": [],
   "source": [
    "train_losses=[]\n",
    "test_losses=[]\n",
    "architectures = {\n",
    "    \"une couche\": [Linear(784, 100), TanH(), Linear(100, 10)],\n",
    "    \"2 couches\": [Linear(784, 100), TanH(), Linear(100, 100), TanH(), Linear(100, 10)],\n",
    "    \"3 couches\": [Linear(784, 100), TanH(), Linear(100, 100), TanH(), Linear(100, 100), TanH(), Linear(100, 10)]\n",
    "}\n",
    "\n",
    "for name, layers in architectures.items():\n",
    "    print(f\"\\nArchitecture: {name}\")\n",
    "    net = Sequentiel(CELoss(), *layers)\n",
    "\n",
    "    train_loss, test_loss, X_eval, y_eval = SGD(net=net, loss=CELoss(), X=X_train, Y=y_train,\n",
    "                                                 batch_size=32, epochs=100, eps=0.01)\n",
    "    train_losses.append(train_loss)\n",
    "    test_losses.append(test_loss)\n",
    "\n",
    "    y_pred_logits = net.forward(X_test)\n",
    "    y_pred = np.argmax(y_pred_logits, axis=1)\n",
    "    y_true = np.argmax(y_test, axis=1)\n",
    "\n",
    "    prec = precision_score(y_true, y_pred, average='macro')\n",
    "    rec = recall_score(y_true, y_pred, average='macro')\n",
    "    f1 = f1_score(y_true, y_pred, average='macro')\n",
    "    acc = accuracy_score(y_true, y_pred)\n",
    "    prec = precision_score(y_true, y_pred, average='macro', zero_division=0)\n",
    "    rec = recall_score(y_true, y_pred, average='macro', zero_division=0)\n",
    "    f1 = f1_score(y_true, y_pred, average='macro', zero_division=0)\n",
    "    print(\"Accuracy:\", accuracy_score(y_true, y_pred))\n",
    "    print(f\"Precision: {prec:.4f}\")\n",
    "    print(f\"Recall:    {rec:.4f}\")\n",
    "    print(f\"F1-score:  {f1:.4f}\")"
   ]
  },
  {
   "cell_type": "code",
   "execution_count": null,
   "metadata": {},
   "outputs": [],
   "source": [
    "plt.figure(figsize=(12, 8))\n",
    "for dim,loss_train in zip(architectures.keys(),train_losses):\n",
    "  # Courbe d'apprentissage\n",
    "  plt.subplot(1, 2, 1)\n",
    "  plt.plot(loss_train, label=f'test loss pour {dim}')\n",
    "\n",
    "plt.title(\"Courbe de loss\")\n",
    "plt.xlabel(\"Epochs\")\n",
    "plt.legend()\n",
    "plt.show()"
   ]
  },
  {
   "cell_type": "code",
   "execution_count": null,
   "metadata": {},
   "outputs": [],
   "source": [
    "plt.figure(figsize=(12, 8))\n",
    "for dim,loss_test in zip(architectures.keys(),test_losses):\n",
    "  # Courbe d'apprentissage\n",
    "  plt.subplot(1, 2, 1)\n",
    "  plt.plot(loss_test, label=f'test loss pour {dim}')\n",
    "\n",
    "plt.title(\"Courbe de loss\")\n",
    "plt.xlabel(\"Epochs\")\n",
    "plt.legend()\n",
    "\n",
    "plt.show()"
   ]
  }
 ],
 "metadata": {
  "interpreter": {
   "hash": "916dbcbb3f70747c44a77c7bcd40155683ae19c65e1c03b4aa3499c5328201f1"
  },
  "kernelspec": {
   "display_name": "Python 3.8.10 64-bit",
   "language": "python",
   "name": "python3"
  },
  "language_info": {
   "codemirror_mode": {
    "name": "ipython",
    "version": 3
   },
   "file_extension": ".py",
   "mimetype": "text/x-python",
   "name": "python",
   "nbconvert_exporter": "python",
   "pygments_lexer": "ipython3",
   "version": "3.8.10"
  },
  "orig_nbformat": 4
 },
 "nbformat": 4,
 "nbformat_minor": 2
}
