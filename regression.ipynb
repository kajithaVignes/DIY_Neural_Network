{
 "cells": [
  {
   "cell_type": "code",
   "execution_count": 1,
   "metadata": {},
   "outputs": [],
   "source": [
    "import numpy as np\n",
    "import matplotlib.pyplot as plt\n",
    "from sklearn.model_selection import train_test_split\n",
    "from mltools import plot_data, plot_frontiere, make_grid, gen_arti\n",
    "from loss import MSELoss,CELoss,BCE\n",
    "from module import Linear,Sequentiel,Optim,SGD\n",
    "from fonction_activation import TanH,Sigmoide"
   ]
  },
  {
   "cell_type": "code",
   "execution_count": 2,
   "metadata": {},
   "outputs": [
    {
     "name": "stdout",
     "output_type": "stream",
     "text": [
      "(100, 1)\n",
      "epoch:0,Loss:1.0050\n",
      "epoch:1000,Loss:0.2611\n",
      "epoch:2000,Loss:0.0678\n",
      "epoch:3000,Loss:0.0176\n",
      "epoch:4000,Loss:0.0046\n",
      "epoch:5000,Loss:0.0012\n",
      "epoch:6000,Loss:0.0003\n",
      "epoch:7000,Loss:0.0001\n",
      "epoch:8000,Loss:0.0000\n",
      "epoch:9000,Loss:0.0000\n"
     ]
    },
    {
     "data": {
      "image/png": "[encoded data removed]",
      "text/plain": [
       "<Figure size 640x480 with 1 Axes>"
      ]
     },
     "metadata": {},
     "output_type": "display_data"
    }
   ],
   "source": [
    "X = np.random.rand(100, 1)\n",
    "print(X.shape)\n",
    "y = 2* X\n",
    "\n",
    "modele=Linear(1,1)\n",
    "loss=MSELoss()\n",
    "eps=0.1\n",
    "epochs=10000\n",
    "losses=[]\n",
    "\n",
    "for epoch in range(10000):\n",
    "  yhat=modele.forward(X)\n",
    "  #calcule de la loss et du gradient du coût\n",
    "  loss_value=loss.forward(y,yhat)\n",
    "  delta=loss.backward(y,yhat)\n",
    "\n",
    "  #backpropagation:\n",
    "  modele.zero_grad()\n",
    "  modele.backward_update_gradient(delta)\n",
    "  modele.update_parameters(eps)\n",
    "\n",
    "  if epoch%1000==0 :\n",
    "    print(f\"epoch:{epoch},Loss:{loss_value:.4f}\")\n",
    "  losses.append(loss_value)\n",
    "\n",
    "plt.scatter(X, y, label='Réel')\n",
    "plt.plot(X, modele.forward(X), color='red', label='Prédiction')\n",
    "plt.legend()\n",
    "plt.show()"
   ]
  },
  {
   "cell_type": "code",
   "execution_count": null,
   "metadata": {},
   "outputs": [],
   "source": [
    "plt.plot(losses)\n",
    "plt.title(\"courbe de la perte\")"
   ]
  },
  {
   "cell_type": "code",
   "execution_count": null,
   "metadata": {},
   "outputs": [],
   "source": [
    "X = np.random.rand(100, 1)  # (100 exemples, 1 feature)\n",
    "y = 2 * X + 2 + 0*1 * np.random.randn(100,1)\n",
    "\n",
    "modele=Linear(1,1,biais=True)\n",
    "loss=MSELoss()\n",
    "eps=0.1\n",
    "epochs=10000\n",
    "losses=[]\n",
    "\n",
    "for epoch in range(10000):\n",
    "  yhat=modele.forward(X)\n",
    "  #calcule de la loss et du gradient du coût\n",
    "  loss_value=loss.forward(y,yhat)\n",
    "  delta=loss.backward(y,yhat)\n",
    "\n",
    "  #backpropagation:\n",
    "  modele.zero_grad()\n",
    "  modele.backward_update_gradient(delta)\n",
    "  modele.update_parameters(eps)\n",
    "\n",
    "  if epoch%1000==0 :\n",
    "    print(f\"epoch:{epoch},Loss:{loss_value:.4f}\")\n",
    "  losses.append(loss_value)\n",
    "\n",
    "plt.scatter(X, y, label='Réel')\n",
    "plt.plot(X, modele.forward(X), color='red', label='Prédiction')\n",
    "plt.legend()\n",
    "plt.show()"
   ]
  },
  {
   "cell_type": "code",
   "execution_count": null,
   "metadata": {},
   "outputs": [],
   "source": [
    "plt.plot(losses)\n",
    "plt.title(\"courbe de la perte\")"
   ]
  },
  {
   "cell_type": "code",
   "execution_count": null,
   "metadata": {},
   "outputs": [],
   "source": [
    "import numpy as np\n",
    "import matplotlib.pyplot as plt\n",
    "\n",
    "# données\n",
    "np.random.seed(42)\n",
    "X = np.random.randn(100, 1)\n",
    "y = 2 * X + 1 + 0.3 * np.random.randn(100, 1)\n",
    "\n",
    "# modele\n",
    "net = Sequentiel(MSELoss(), Linear(1, 1, biais=True))\n",
    "\n",
    "#descente de gradient\n",
    "train_loss, test_loss,_,_,= SGD(\n",
    "    net=net,\n",
    "    loss=MSELoss(),\n",
    "    X=X,\n",
    "    Y=y,\n",
    "    batch_size=8,\n",
    "    epochs=200,\n",
    "    eps=0.01 \n",
    ")\n",
    "\n",
    "#plot\n",
    "plt.figure(figsize=(12, 4))\n",
    "\n",
    "plt.subplot(1, 2, 1)\n",
    "plt.plot(train_loss, label='Train loss')\n",
    "plt.plot(test_loss, label='Test loss', linestyle='--')\n",
    "plt.xlabel('Epochs'); plt.ylabel('MSE'); plt.legend()\n",
    "\n",
    "plt.subplot(1, 2, 2)\n",
    "plt.scatter(X, y, label='Vraies données', s=10)\n",
    "plt.plot(X, net.forward(X), color='red', label='Prédiction')\n",
    "plt.xlabel('X'); plt.ylabel('y'); plt.legend()\n",
    "\n",
    "plt.show()\n"
   ]
  },
  {
   "cell_type": "code",
   "execution_count": null,
   "metadata": {},
   "outputs": [],
   "source": [
    "import numpy as np\n",
    "import matplotlib.pyplot as plt\n",
    "\n",
    "#données\n",
    "np.random.seed(42)\n",
    "X = np.linspace(-3, 3, 100).reshape(-1, 1)\n",
    "y = np.sin(X) + 0.1 * np.random.randn(100, 1)  \n",
    "\n",
    "#donnees\n",
    "net = Sequentiel(\n",
    "    MSELoss(),\n",
    "    Linear(1, 10, biais=True),\n",
    "    TanH(),\n",
    "    Linear(10, 1, biais=True)\n",
    ")\n",
    "\n",
    "# descente de gradient\n",
    "train_loss, test_loss,_,_= SGD(\n",
    "    net=net,\n",
    "    loss=MSELoss(),\n",
    "    X=X,\n",
    "    Y=y,\n",
    "    batch_size=16,\n",
    "    epochs=1000,\n",
    "    eps=0.01 \n",
    ")\n",
    "\n",
    "# plot\n",
    "plt.figure(figsize=(12, 5))\n",
    "\n",
    "plt.subplot(1, 2, 1)\n",
    "plt.plot(train_loss, label='Train loss')\n",
    "plt.plot(test_loss, label='Test loss', linestyle='--')\n",
    "plt.title(\"Courbe de loss\"); plt.xlabel(\"Epochs\"); plt.legend()\n",
    "plt.subplot(1, 2, 2)\n",
    "plt.scatter(X, y, label='Données réelles', s=10)\n",
    "x_plot = np.linspace(-3, 3, 100).reshape(-1, 1)\n",
    "plt.plot(x_plot, net.forward(x_plot), color='red', label='Prédiction', linewidth=2)\n",
    "plt.title(\"Approximation de sin(X)\"); plt.legend()\n",
    "\n",
    "plt.show()"
   ]
  }
 ],
 "metadata": {
  "interpreter": {
   "hash": "916dbcbb3f70747c44a77c7bcd40155683ae19c65e1c03b4aa3499c5328201f1"
  },
  "kernelspec": {
   "display_name": "Python 3.8.10 64-bit",
   "language": "python",
   "name": "python3"
  },
  "language_info": {
   "codemirror_mode": {
    "name": "ipython",
    "version": 3
   },
   "file_extension": ".py",
   "mimetype": "text/x-python",
   "name": "python",
   "nbconvert_exporter": "python",
   "pygments_lexer": "ipython3",
   "version": "3.8.10"
  },
  "orig_nbformat": 4
 },
 "nbformat": 4,
 "nbformat_minor": 2
}
